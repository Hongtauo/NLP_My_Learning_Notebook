{
 "cells": [
  {
   "attachments": {},
   "cell_type": "markdown",
   "metadata": {},
   "source": [
    "正向最大匹配法"
   ]
  },
  {
   "cell_type": "code",
   "execution_count": 30,
   "metadata": {},
   "outputs": [
    {
     "name": "stdout",
     "output_type": "stream",
     "text": [
      "分词结果为： ['南京市长', '江', '大桥']\n"
     ]
    }
   ],
   "source": [
    "import re\n",
    "Dic=['江','南京','市长','长江','大桥','南京市','南京市长']#规则词典\n",
    "Sentence=\"南京市长江大桥\"#待分词句子\n",
    "Maximum_Mach_Method=[]#存放正向最大法结果\n",
    "\n",
    "Max_len=len(max(Dic,key=len,default=''))#词典中最大字符串长度\n",
    "Length=len(Sentence)#待分词句子长度\n",
    "\n",
    "while Length>1:\n",
    "    Divide_sent=Sentence[0:Max_len]\n",
    "    while Divide_sent not in Dic :\n",
    "        if(len(Divide_sent)==1):\n",
    "            break\n",
    "        Divide_sent=Divide_sent[0:len(Divide_sent)-1]\n",
    "    \n",
    "    Maximum_Mach_Method.append(Divide_sent)\n",
    "    Sentence=Sentence[len(Divide_sent):]\n",
    "    Length=len(Sentence)\n",
    "print(\"分词结果为：\",Maximum_Mach_Method)"
   ]
  },
  {
   "attachments": {},
   "cell_type": "markdown",
   "metadata": {},
   "source": [
    "逆向最大匹配法"
   ]
  },
  {
   "cell_type": "code",
   "execution_count": 43,
   "metadata": {},
   "outputs": [
    {
     "name": "stdout",
     "output_type": "stream",
     "text": [
      "分词结果为： ['南京市', '长江大桥']\n"
     ]
    }
   ],
   "source": [
    "Dic=['江','南京','市长','长江','大桥','南京市','南京市长','长江大桥']#规则词典\n",
    "Sentence=\"南京市长江大桥\"#待分词句子\n",
    "Reverse_Maximum_Mach_Method=[]#存放正向最大法结果\n",
    "\n",
    "Max_len=len(max(Dic,key=len,default=''))#词典中最大字符串长度\n",
    "Length=len(Sentence)#待分词句子长度\n",
    "\n",
    "while Length>1:\n",
    "    Divide_sent=Sentence[-Max_len:]\n",
    "    while Divide_sent not in Dic :\n",
    "        if(len(Divide_sent)==1):\n",
    "            break\n",
    "        Divide_sent=Divide_sent[1:]\n",
    "    \n",
    "    Reverse_Maximum_Mach_Method.append(Divide_sent)\n",
    "    Sentence=Sentence[:len(Sentence)-len(Divide_sent)]\n",
    "    Length=len(Sentence)\n",
    "print(\"分词结果为：\",Reverse_Maximum_Mach_Method[::-1])"
   ]
  },
  {
   "attachments": {},
   "cell_type": "markdown",
   "metadata": {},
   "source": [
    "双向最大匹配算法"
   ]
  },
  {
   "cell_type": "code",
   "execution_count": 56,
   "metadata": {},
   "outputs": [
    {
     "name": "stdout",
     "output_type": "stream",
     "text": [
      "分词结果为： ['南京市', '长江大桥']\n"
     ]
    }
   ],
   "source": [
    "Dic=['江','南京','市长','长江','大桥','南京市','南京市长','长江大桥']#规则词典\n",
    "Sentence=\"南京市长江大桥\"#待分词句子\n",
    "\n",
    "def MM(Dic,Sentence):\n",
    "    Maximum_Mach_Method=[]#存放正向最大法结果\n",
    "    Max_len=len(max(Dic,key=len,default=''))#词典中最大字符串长度\n",
    "    Length=len(Sentence)#待分词句子长度\n",
    "\n",
    "    while Length>1:\n",
    "        Divide_sent=Sentence[0:Max_len]\n",
    "        while Divide_sent not in Dic :\n",
    "            if(len(Divide_sent)==1):\n",
    "                break\n",
    "            Divide_sent=Divide_sent[0:len(Divide_sent)-1]\n",
    "        \n",
    "        Maximum_Mach_Method.append(Divide_sent)\n",
    "        Sentence=Sentence[len(Divide_sent):]\n",
    "        Length=len(Sentence)\n",
    "\n",
    "def RMM(Dic,Sentence):\n",
    "    Reverse_Maximum_Mach_Method=[]#存放正向最大法结果\n",
    "    Max_len=len(max(Dic,key=len,default=''))#词典中最大字符串长度\n",
    "    Length=len(Sentence)#待分词句子长度\n",
    "\n",
    "    while Length>1:\n",
    "        Divide_sent=Sentence[-Max_len:]\n",
    "        while Divide_sent not in Dic :\n",
    "            if(len(Divide_sent)==1):\n",
    "                break\n",
    "            Divide_sent=Divide_sent[1:]\n",
    "        \n",
    "        Reverse_Maximum_Mach_Method.append(Divide_sent)\n",
    "        Sentence=Sentence[:len(Sentence)-len(Divide_sent)]\n",
    "        Length=len(Sentence)\n",
    "\n",
    "def Compare(Maximum_Mach_Method,Reverse_Maximum_Mach_Method):\n",
    "    final=[]\n",
    "    final = Maximum_Mach_Method if len(Maximum_Mach_Method) > len(Reverse_Maximum_Mach_Method[::-1]) else Reverse_Maximum_Mach_Method[::-1]\n",
    "    return final\n",
    "\n",
    "MM(Dic,Sentence)\n",
    "RMM(Dic,Sentence)\n",
    "final=Compare(Maximum_Mach_Method,Reverse_Maximum_Mach_Method)\n",
    "print(\"分词结果为：\",final)"
   ]
  }
 ],
 "metadata": {
  "kernelspec": {
   "display_name": "base",
   "language": "python",
   "name": "python3"
  },
  "language_info": {
   "codemirror_mode": {
    "name": "ipython",
    "version": 3
   },
   "file_extension": ".py",
   "mimetype": "text/x-python",
   "name": "python",
   "nbconvert_exporter": "python",
   "pygments_lexer": "ipython3",
   "version": "3.9.12"
  },
  "orig_nbformat": 4,
  "vscode": {
   "interpreter": {
    "hash": "bcc361efeadef419c5ba256413aa499083d3347e114a60b790f76569a41bbe67"
   }
  }
 },
 "nbformat": 4,
 "nbformat_minor": 2
}
