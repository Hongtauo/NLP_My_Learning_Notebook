{
 "cells": [
  {
   "attachments": {},
   "cell_type": "markdown",
   "metadata": {},
   "source": [
    "第二章 例1 获取关键字"
   ]
  },
  {
   "cell_type": "code",
   "execution_count": 10,
   "metadata": {},
   "outputs": [
    {
     "name": "stdout",
     "output_type": "stream",
     "text": [
      "关键词： 爬虫 利用一个爬虫抓取网络中的信息\n",
      "关键词： 爬虫 根据用户的需求，爬虫可以有主题爬虫和通用爬虫之分\n",
      "关键词： 文本 文本最重要的来源无疑是网络\n",
      "关键词： 文本 我们要把网络中的文本获取形成一个文本数据库\n"
     ]
    }
   ],
   "source": [
    "import re\n",
    "test_string='文本最重要的来源无疑是网络。我们要把网络中的文本获取形成一个文本数据库。利用一个爬虫抓取网络中的信息。爬取的策列又广度爬取和深度爬取。根据用户的需求，爬虫可以有主题爬虫和通用爬虫之分'\n",
    "regex_1='爬虫'\n",
    "regex_2='文本'\n",
    "p_string = test_string.split(\"。\")#句号作为分隔符进行句子的切分\n",
    "for line in p_string:\n",
    "    if re.search(regex_1,line) is not None:#如果关键词非空的话，则将对应句子打印输出\n",
    "        print(\"关键词：\",regex_1,line)\n",
    "\n",
    "for line in p_string:\n",
    "    if re.search(regex_2,line) is not None:#如果关键词非空的话，则将对应句子打印输出\n",
    "        print(\"关键词：\",regex_2,line)"
   ]
  },
  {
   "attachments": {},
   "cell_type": "markdown",
   "metadata": {},
   "source": [
    "第二章 例2 匹配任意一个字符"
   ]
  },
  {
   "cell_type": "code",
   "execution_count": 19,
   "metadata": {},
   "outputs": [
    {
     "name": "stdout",
     "output_type": "stream",
     "text": [
      "关键词： 爬. 利用一个爬虫抓取网络中的信息\n",
      "关键词： 爬. 爬取的策列又广度爬取和深度爬取\n",
      "关键词： 爬. 根据用户的需求，爬虫可以有主题爬虫和通用爬虫之分\n",
      "关键词： 用.的 根据用户的需求，爬虫可以有主题爬虫和通用爬虫之分\n"
     ]
    }
   ],
   "source": [
    "regex_1='爬.'\n",
    "regex_2='用.的'\n",
    "p_string = test_string.split(\"。\")#句号作为分隔符进行句子的切分\n",
    "for line in p_string:\n",
    "    if re.search(regex_1,line) is not None:#如果关键词非空的话，则将对应句子打印输出\n",
    "        print(\"关键词：\",regex_1,line)\n",
    "for line in p_string:\n",
    "    if re.search(regex_2,line) is not None:#如果关键词非空的话，则将对应句子打印输出\n",
    "        print(\"关键词：\",regex_2,line)"
   ]
  },
  {
   "attachments": {},
   "cell_type": "markdown",
   "metadata": {},
   "source": [
    "例3 匹配起始、结尾字符串"
   ]
  },
  {
   "cell_type": "code",
   "execution_count": 22,
   "metadata": {},
   "outputs": [
    {
     "name": "stdout",
     "output_type": "stream",
     "text": [
      "关键词： ^文本 文本最重要的来源无疑是网络\n",
      "关键词： 信息$ 利用一个爬虫抓取网络中的信息\n"
     ]
    }
   ],
   "source": [
    "regex_1='^文本'\n",
    "regex_2='信息$'\n",
    "p_string = test_string.split(\"。\")\n",
    "for line in p_string:\n",
    "    if re.search(regex_1,line) is not None:\n",
    "        print(\"关键词：\",regex_1,line)\n",
    "\n",
    "for line in p_string:\n",
    "    if re.search(regex_2,line) is not None:\n",
    "        print(\"关键词：\",regex_2,line)"
   ]
  },
  {
   "attachments": {},
   "cell_type": "markdown",
   "metadata": {},
   "source": [
    "例4 中括号匹配多个字符"
   ]
  },
  {
   "cell_type": "code",
   "execution_count": null,
   "metadata": {},
   "outputs": [],
   "source": []
  }
 ],
 "metadata": {
  "kernelspec": {
   "display_name": "base",
   "language": "python",
   "name": "python3"
  },
  "language_info": {
   "codemirror_mode": {
    "name": "ipython",
    "version": 3
   },
   "file_extension": ".py",
   "mimetype": "text/x-python",
   "name": "python",
   "nbconvert_exporter": "python",
   "pygments_lexer": "ipython3",
   "version": "3.9.12"
  },
  "orig_nbformat": 4,
  "vscode": {
   "interpreter": {
    "hash": "bcc361efeadef419c5ba256413aa499083d3347e114a60b790f76569a41bbe67"
   }
  }
 },
 "nbformat": 4,
 "nbformat_minor": 2
}
