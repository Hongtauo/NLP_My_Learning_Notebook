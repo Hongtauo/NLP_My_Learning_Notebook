{
 "cells": [
  {
   "attachments": {},
   "cell_type": "markdown",
   "metadata": {},
   "source": [
    "日期识别"
   ]
  },
  {
   "cell_type": "code",
   "execution_count": 2,
   "metadata": {},
   "outputs": [],
   "source": [
    "import re\n",
    "import jieba.posseg as psg\n",
    "from datetime import datetime,timedelta\n",
    "from dateutil.parser import parse"
   ]
  },
  {
   "cell_type": "code",
   "execution_count": 3,
   "metadata": {},
   "outputs": [],
   "source": [
    "def time_extract(text):\n",
    "    time_res = []\n",
    "    word = ''\n",
    "    keyDate={'今天':0,'明天':1,'后天':2}\n",
    "    for k,v in psg.cut(text):\n",
    "        if k in keyDate:\n",
    "            if word != '':\n",
    "                time_res.append(word)\n",
    "                word = (datetime.today() + timedelta(days = keyDate.get(k,0))).strftime('%Y年 %m月 %d日')\n",
    "        elif word != '':\n",
    "            if v in ['m','t']:\n",
    "                word = word + k\n",
    "            else:\n",
    "                time_res.append(word)\n",
    "                word=''\n",
    "        elif v in ['m','t']:\n",
    "            word = k\n",
    "    if word != '':\n",
    "        time_res.append(word)\n",
    "    result = list(filter(lambda x: x is not None,[check_time_valid(w) for w in time_res]))\n",
    "    final_res = [parse_datetime(w) for w in result]\n",
    "\n",
    "    return [x for x in final_res if x is not None]"
   ]
  },
  {
   "cell_type": "code",
   "execution_count": null,
   "metadata": {},
   "outputs": [],
   "source": [
    "def check_time_valid(word):\n",
    "    m= re.match(\"\\d+$\",word)\n",
    "    if m:\n",
    "        if len(word)<=6:\n",
    "            return None\n",
    "    word1 = re.sub('[号|日]\\d+$','日',word)\n",
    "    if word1 != word:\n",
    "        return check_time_valid(word1)\n",
    "    else:\n",
    "        return word1"
   ]
  },
  {
   "cell_type": "code",
   "execution_count": null,
   "metadata": {},
   "outputs": [],
   "source": [
    "def parse_datetime(msg):\n",
    "    "
   ]
  }
 ],
 "metadata": {
  "kernelspec": {
   "display_name": "base",
   "language": "python",
   "name": "python3"
  },
  "language_info": {
   "codemirror_mode": {
    "name": "ipython",
    "version": 3
   },
   "file_extension": ".py",
   "mimetype": "text/x-python",
   "name": "python",
   "nbconvert_exporter": "python",
   "pygments_lexer": "ipython3",
   "version": "3.9.12"
  },
  "orig_nbformat": 4,
  "vscode": {
   "interpreter": {
    "hash": "bcc361efeadef419c5ba256413aa499083d3347e114a60b790f76569a41bbe67"
   }
  }
 },
 "nbformat": 4,
 "nbformat_minor": 2
}
