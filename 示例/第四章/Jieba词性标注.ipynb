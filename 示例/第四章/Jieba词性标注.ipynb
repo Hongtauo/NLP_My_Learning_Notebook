{
 "cells": [
  {
   "cell_type": "code",
   "execution_count": 5,
   "metadata": {},
   "outputs": [
    {
     "name": "stdout",
     "output_type": "stream",
     "text": [
      "[pair('中文', 'nz'), pair('分词', 'n'), pair('是', 'v'), pair('文本处理', 'n'), pair('不可或缺', 'l'), pair('的', 'uj'), pair('一步', 'm'), pair('！', 'x')]\n"
     ]
    }
   ],
   "source": [
    "import jieba.posseg as pseg\n",
    "sent='中文分词是文本处理不可或缺的一步！'\n",
    "seg_list = pseg.cut(sent)\n",
    "print(str(list(seg_list)))"
   ]
  }
 ],
 "metadata": {
  "kernelspec": {
   "display_name": "base",
   "language": "python",
   "name": "python3"
  },
  "language_info": {
   "codemirror_mode": {
    "name": "ipython",
    "version": 3
   },
   "file_extension": ".py",
   "mimetype": "text/x-python",
   "name": "python",
   "nbconvert_exporter": "python",
   "pygments_lexer": "ipython3",
   "version": "3.9.12 (main, Apr  4 2022, 05:22:27) [MSC v.1916 64 bit (AMD64)]"
  },
  "orig_nbformat": 4,
  "vscode": {
   "interpreter": {
    "hash": "bcc361efeadef419c5ba256413aa499083d3347e114a60b790f76569a41bbe67"
   }
  }
 },
 "nbformat": 4,
 "nbformat_minor": 2
}
